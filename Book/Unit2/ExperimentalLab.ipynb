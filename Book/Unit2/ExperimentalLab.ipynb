{
  "cells": [
    {
      "cell_type": "markdown",
      "metadata": {
        "id": "rT6bm1zzvAVj"
      },
      "source": [
        "# Lab 4.5 - Practice With Problems\n",
        "\n",
        "Hi everyone. This is practice with an experimental lab format. For 'saving progress' in this lab, you will want to make sure you have an account setup with google if you are using [colabs](https://colab.research.google.com/notebooks/welcome.ipynb#scrollTo=9wi5kfGdhK0R) or if you have [downloaded](https://github.com/CSU-CS150B/handouts/tree/main/Book/Unit2) this file, using VS Code (or other local application), you will be fine on your own computer. For those using colabs, make sure you save it to your google drive.\n",
        "\n",
        "This lab will take you step by step as you work through the jupyter notebook."
      ]
    },
    {
      "cell_type": "markdown",
      "metadata": {
        "id": "aK7SsmffvAVn"
      },
      "source": [
        "## Task 1: Working With Loops and Strings\n",
        "\n",
        "For this task, your goal is to write a loop that will reprint the characters of any string. For example:\n",
        "\n",
        "```\n",
        "Hello\n",
        "```\n",
        "\n",
        "will print to the screen\n",
        "\n",
        "```\n",
        "H\n",
        "e\n",
        "l\n",
        "l\n",
        "o\n",
        "```\n",
        "\n",
        "A few things to help you out, remember you can access a specific location in a string using the \"indexing\" operators `[]` as such, if I wanted to access the first element it would be the following (go ahead and run the code).\n"
      ]
    },
    {
      "cell_type": "code",
      "execution_count": null,
      "metadata": {
        "id": "U-OA_kW2vAVo",
        "outputId": "3c98d65c-22d0-454a-dd22-306d12198c32"
      },
      "outputs": [
        {
          "name": "stdout",
          "output_type": "stream",
          "text": [
            "h\n",
            "h\n",
            "e\n"
          ]
        }
      ],
      "source": [
        "print(\"hello\"[0])  # prints h to the screen\n",
        "\n",
        "## or better done\n",
        "greeting = \"hello\"\n",
        "print(greeting[0])  # prints h to the screen\n",
        "print(greeting[1])  # prints e to the screen\n"
      ]
    },
    {
      "cell_type": "markdown",
      "metadata": {
        "id": "cyHb8TVKvAVq"
      },
      "source": [
        "\n",
        "Another useful reminder is that `len(string)` gives you the total number of characters, so if I wanted to loop the total length of the string, the loop I would setup would be:\n",
        "\n",
        "```python\n",
        "loc = 0\n",
        "while loc < len(greeting):\n",
        "    # do something\n",
        "    # make sure to increment loc!\n",
        "```\n",
        "\n",
        "Now go ahead and build the loop below!"
      ]
    },
    {
      "cell_type": "code",
      "execution_count": 10,
      "metadata": {
        "colab": {
          "base_uri": "https://localhost:8080/"
        },
        "id": "d0jYaCtuvAVr",
        "outputId": "e40b2f60-4d53-41b1-b457-d25e461014c0"
      },
      "outputs": [
        {
          "output_type": "stream",
          "name": "stdout",
          "text": [
            "plunger\n",
            "p\n",
            "l\n",
            "u\n",
            "n\n",
            "g\n",
            "e\n",
            "r\n"
          ]
        }
      ],
      "source": [
        "greeting = input() #you should change this for testing\n",
        "counter = 0\n",
        "\n",
        "## put your loop here, and test it using the arrow to the side\n",
        "while counter < len(greeting):\n",
        "  print(greeting[counter:counter + 1])\n",
        "  counter += 1"
      ]
    },
    {
      "cell_type": "markdown",
      "metadata": {
        "id": "rlNEoJ35vAVr"
      },
      "source": [
        "## Task 2 - Building a reverse string\n",
        "\n",
        "For this task, you will take the same idea of a loop and \"flip it\" instead of going from 0 to len(greeting), you will want to set your loc to the *last* index of the string, and count *down* until you are at the first index (0).\n",
        "\n",
        "> To think about: if len(string) gives you the entire length, is that the last index or do you need to modify it to get the last index from that?\n",
        "\n",
        "The other thing to remember is how to concatinate strings. In this case, we are building a string, so in our loop we will want to use a `+=` to the string variable. Run the next code to see an example of that."
      ]
    },
    {
      "cell_type": "code",
      "execution_count": 6,
      "metadata": {
        "colab": {
          "base_uri": "https://localhost:8080/"
        },
        "id": "izk5FuxvvAVs",
        "outputId": "1bbf8f97-7d0a-4369-fb8b-412c8d3201c9"
      },
      "outputs": [
        {
          "output_type": "stream",
          "name": "stdout",
          "text": [
            "aaaaaa\n"
          ]
        }
      ],
      "source": [
        "example_ans = \"\"\n",
        "example_greeting = \"aloha\"\n",
        "exloc = 5\n",
        "while exloc >= 0:\n",
        "    example_ans += example_greeting[0]\n",
        "    exloc -= 1\n",
        "print(example_ans)\n"
      ]
    },
    {
      "cell_type": "code",
      "execution_count": 13,
      "metadata": {
        "colab": {
          "base_uri": "https://localhost:8080/"
        },
        "id": "FcMV3U89vAVs",
        "outputId": "021e704b-81da-462c-cf76-bce8055b7e24"
      },
      "outputs": [
        {
          "output_type": "stream",
          "name": "stdout",
          "text": [
            "Input a greeting:hallo\n",
            "ollah\n"
          ]
        }
      ],
      "source": [
        "greeting = input(\"Input a greeting:\")\n",
        "counter = (len(greeting) - 1)\n",
        "rev_greeting = \"\"\n",
        "\n",
        "while counter >= 0:\n",
        "  rev_greeting += greeting[counter]\n",
        "  counter -= 1\n",
        "\n",
        "print(rev_greeting)\n",
        ""
      ]
    },
    {
      "cell_type": "markdown",
      "metadata": {
        "id": "FVHQw4wyvAVt"
      },
      "source": [
        "## Task 3 - Creating a function\n",
        "\n",
        "Great, we have figured out how to reverse a string, so now lets build a function so we can continue to do it. As a reminder, a function has the following format\n",
        "\n",
        "```python\n",
        "def name(parameters):\n",
        "    #code - all indented as part of the function block\n",
        "    #return answer\n",
        "```\n",
        "\n",
        "You may want to review functions at this point, and go back to the [functions interactive slides](https://colab.research.google.com/github/CSU-CS150B/handouts/blob/main/Book/Unit1/IntroToFunctions.ipynb) and work on `def nameFormat(first, last):` activity (most the way down the page) as a reminder.\n",
        "\n",
        "When you are comfortable, take the code you wrote above, and make it the primary block of the function `reverse_str`. Remember, you want to return the answer not print it here!"
      ]
    },
    {
      "cell_type": "code",
      "execution_count": 16,
      "metadata": {
        "id": "HrtkiNlhvAVu"
      },
      "outputs": [],
      "source": [
        "# we put in the signature for you, the rest you need to work on\n",
        "def reverse_str(msg):\n",
        "  greeting = input(\"Input a greeting:\")\n",
        "  counter = (len(greeting) - 1)\n",
        "  rev_greeting = \"\"\n",
        "\n",
        "  while counter >= 0:\n",
        "    rev_greeting += greeting[counter]\n",
        "    counter -= 1\n",
        "\n",
        "  print(rev_greeting)\n",
        "\n",
        "\n",
        "\n",
        "\n"
      ]
    },
    {
      "cell_type": "markdown",
      "metadata": {
        "id": "v2YQ8_e9vAVv"
      },
      "source": [
        "## Turning In\n",
        "\n",
        "If you go to file -> download -> .py, that will allow you to download a python script file built off of this notebook (or export command in vscode). After you download this file, click on the lab link in canvas, and you will be able to upload the lab into zybooks. This lab will also have a quick survey after it, as this is the first time we are trying a jupyter notebook lab for this course, and I am wanting to collect feedback. That is also why this lab only had you build up to one function, instead of building a full program.\n",
        "\n",
        "### Future Labs in 163/164\n",
        "While CS 150B will build you to working on a full program by the end of the semester (we will get there!), I wanted to take a moment about CS 163/4 labs. We alternate theory based labs on Tuesdays and full applications / working programs on Thursdays. If you currently have an A or B in CS 150B, you would do great in the following course which gives you a much stronger programming background! Come talk to me if you are interested in learning more!\n",
        "\n",
        "\n",
        "### Extra practice\n",
        "For the remainder of the lab session, I encourage you to try the extra practice labs in zybooks! Your TAs will guide you to them. Remember, programming takes practice, so it is best you keep at it."
      ]
    }
  ],
  "metadata": {
    "interpreter": {
      "hash": "2ba540a0224cde77ca4ac53e72c437473ecb7ee9f5c9f57a02383d20eb80f2df"
    },
    "kernelspec": {
      "display_name": "Python 3.9.10 64-bit (windows store)",
      "language": "python",
      "name": "python3"
    },
    "language_info": {
      "codemirror_mode": {
        "name": "ipython",
        "version": 3
      },
      "file_extension": ".py",
      "mimetype": "text/x-python",
      "name": "python",
      "nbconvert_exporter": "python",
      "pygments_lexer": "ipython3",
      "version": "3.9.10"
    },
    "orig_nbformat": 4,
    "colab": {
      "provenance": []
    }
  },
  "nbformat": 4,
  "nbformat_minor": 0
}